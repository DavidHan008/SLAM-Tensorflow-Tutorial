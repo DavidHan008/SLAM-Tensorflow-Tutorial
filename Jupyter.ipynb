{
 "cells": [
  {
   "cell_type": "markdown",
   "metadata": {},
   "source": [
    "# Jupyter (successor of iPython Notebook)\n",
    "## Installation \n",
    "http://www.datasciencebytes.com/bytes/2015/12/18/using-jupyter-notebooks-securely-on-remote-linux-machines/\n",
    "\n",
    "\n",
    "http://jupyter-notebook.readthedocs.io/en/latest/public_server.html#notebook-server-security"
   ]
  },
  {
   "cell_type": "markdown",
   "metadata": {},
   "source": [
    "很多隱藏版功能，例如  \n",
    "```python  \n",
    "from tensorflow.python.training import moving_averages\n",
    "```  \n",
    "誰會知道啊~~"
   ]
  }
 ],
 "metadata": {
  "kernelspec": {
   "display_name": "Python 2",
   "language": "python",
   "name": "python2"
  },
  "language_info": {
   "codemirror_mode": {
    "name": "ipython",
    "version": 2
   },
   "file_extension": ".py",
   "mimetype": "text/x-python",
   "name": "python",
   "nbconvert_exporter": "python",
   "pygments_lexer": "ipython2",
   "version": "2.7.6"
  }
 },
 "nbformat": 4,
 "nbformat_minor": 0
}
